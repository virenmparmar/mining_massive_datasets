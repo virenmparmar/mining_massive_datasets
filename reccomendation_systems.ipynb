{
  "cells": [
    {
      "cell_type": "markdown",
      "metadata": {
        "id": "kPt5q27L5557"
      },
      "source": [
        "# HW 5\n",
        "## Recommendation Systems"
      ]
    },
    {
      "cell_type": "markdown",
      "metadata": {
        "id": "AP4WwTmWRjhT"
      },
      "source": [
        "## Part 1: Pyspark (40 Points)"
      ]
    },
    {
      "cell_type": "markdown",
      "metadata": {
        "id": "p0-YhEpP_Ds-"
      },
      "source": [
        "### Setup"
      ]
    },
    {
      "cell_type": "markdown",
      "metadata": {
        "id": "Zsj5WYpR9QId"
      },
      "source": [
        "Let's setup Spark on your Colab environment.  Run the cell below!"
      ]
    },
    {
      "cell_type": "code",
      "execution_count": 190,
      "metadata": {
        "colab": {
          "base_uri": "https://localhost:8080/"
        },
        "id": "k-qHai2252mI",
        "outputId": "b0e628f9-b677-4929-e6e3-a24c0523dcd8"
      },
      "outputs": [
        {
          "name": "stdout",
          "output_type": "stream",
          "text": [
            "\u001b[33mDEPRECATION: Configuring installation scheme with distutils config files is deprecated and will no longer work in the near future. If you are using a Homebrew or Linuxbrew Python, please see discussion at https://github.com/Homebrew/homebrew-core/issues/76621\u001b[0m\u001b[33m\n",
            "\u001b[0mRequirement already satisfied: pyspark in /opt/homebrew/lib/python3.9/site-packages (3.2.0)\n",
            "Requirement already satisfied: py4j==0.10.9.2 in /opt/homebrew/lib/python3.9/site-packages (from pyspark) (0.10.9.2)\n",
            "\u001b[33mDEPRECATION: Configuring installation scheme with distutils config files is deprecated and will no longer work in the near future. If you are using a Homebrew or Linuxbrew Python, please see discussion at https://github.com/Homebrew/homebrew-core/issues/76621\u001b[0m\u001b[33m\n",
            "\u001b[0m\u001b[33mDEPRECATION: Configuring installation scheme with distutils config files is deprecated and will no longer work in the near future. If you are using a Homebrew or Linuxbrew Python, please see discussion at https://github.com/Homebrew/homebrew-core/issues/76621\u001b[0m\u001b[33m\n",
            "\u001b[0m\u001b[33mDEPRECATION: Configuring installation scheme with distutils config files is deprecated and will no longer work in the near future. If you are using a Homebrew or Linuxbrew Python, please see discussion at https://github.com/Homebrew/homebrew-core/issues/76621\u001b[0m\u001b[33m\n",
            "\u001b[0mThe operation couldn’t be completed. Unable to locate a Java Runtime that supports apt.\n",
            "Please visit http://www.java.com for information on installing Java.\n",
            "\n"
          ]
        }
      ],
      "source": [
        "!pip install pyspark\n",
        "!pip install -U -q PyDrive\n",
        "!apt install openjdk-8-jdk-headless -qq\n",
        "import os\n",
        "os.environ[\"JAVA_HOME\"] = \"/usr/lib/jvm/java-8-openjdk-amd64\""
      ]
    },
    {
      "cell_type": "markdown",
      "metadata": {
        "id": "PUUjUvXe3Sjk"
      },
      "source": [
        "Now we authenticate a Google Drive client to download the filea we will be processing in our Spark job.\n",
        "\n",
        "**Make sure to follow the interactive instructions.**"
      ]
    },
    {
      "cell_type": "code",
      "execution_count": null,
      "metadata": {
        "id": "lRElWs_x2mGh"
      },
      "outputs": [],
      "source": [
        "from pydrive.auth import GoogleAuth\n",
        "from pydrive.drive import GoogleDrive\n",
        "from google.colab import auth\n",
        "from oauth2client.client import GoogleCredentials\n",
        "\n",
        "# Authenticate and create the PyDrive client\n",
        "auth.authenticate_user()\n",
        "gauth = GoogleAuth()\n",
        "gauth.credentials = GoogleCredentials.get_application_default()\n",
        "drive = GoogleDrive(gauth)"
      ]
    },
    {
      "cell_type": "code",
      "execution_count": null,
      "metadata": {
        "id": "QHsFTGUy2n1c"
      },
      "outputs": [],
      "source": [
        "id='1QtPy_HuIMSzhtYllT3-WeM3Sqg55wK_D'\n",
        "downloaded = drive.CreateFile({'id': id})\n",
        "downloaded.GetContentFile('MovieLens.training')\n",
        "\n",
        "id='1ePqnsQTJRRvQcBoF2EhoPU8CU1i5byHK'\n",
        "downloaded = drive.CreateFile({'id': id})\n",
        "downloaded.GetContentFile('MovieLens.test')\n",
        "\n",
        "id='1ncUBWdI5AIt3FDUJokbMqpHD2knd5ebp'\n",
        "downloaded = drive.CreateFile({'id': id})\n",
        "downloaded.GetContentFile('MovieLens.item')"
      ]
    },
    {
      "cell_type": "markdown",
      "metadata": {
        "id": "qwtlO4_m_LbQ"
      },
      "source": [
        "If you executed the cells above, you should be able to see the dataset we will use for this Colab under the \"Files\" tab on the left panel.\n",
        "\n",
        "Next, we import some of the common libraries needed for our task."
      ]
    },
    {
      "cell_type": "code",
      "execution_count": 191,
      "metadata": {
        "id": "twk-K-jilWK7"
      },
      "outputs": [],
      "source": [
        "import pandas as pd\n",
        "import numpy as np\n",
        "import matplotlib.pyplot as plt\n",
        "%matplotlib inline\n",
        "\n",
        "import pyspark\n",
        "from pyspark.sql import *\n",
        "from pyspark.sql.types import *\n",
        "from pyspark.sql.functions import *\n",
        "from pyspark import SparkContext, SparkConf"
      ]
    },
    {
      "cell_type": "markdown",
      "metadata": {
        "id": "BtrJlMBt1Ela"
      },
      "source": [
        "Let's initialize the Spark context."
      ]
    },
    {
      "cell_type": "code",
      "execution_count": null,
      "metadata": {
        "id": "Vm3sAVeK1EDZ"
      },
      "outputs": [],
      "source": [
        "# create the session\n",
        "conf = SparkConf().set(\"spark.ui.port\", \"4050\")\n",
        "\n",
        "# create the context\n",
        "sc = pyspark.SparkContext(conf=conf)\n",
        "spark = SparkSession.builder.getOrCreate()"
      ]
    },
    {
      "cell_type": "markdown",
      "metadata": {
        "id": "YqovskkH1DmC"
      },
      "source": [
        "You can easily check the current version and get the link of the web interface. In the Spark UI, you can monitor the progress of your job and debug the performance bottlenecks (if your Colab is running with a **local runtime**)."
      ]
    },
    {
      "cell_type": "code",
      "execution_count": 276,
      "metadata": {
        "colab": {
          "base_uri": "https://localhost:8080/",
          "height": 220
        },
        "id": "DueQggJc1DDk",
        "outputId": "5262141f-96ce-45f3-c46e-2ed7244725fa"
      },
      "outputs": [
        {
          "data": {
            "text/html": [
              "\n",
              "            <div>\n",
              "                <p><b>SparkSession - in-memory</b></p>\n",
              "                \n",
              "        <div>\n",
              "            <p><b>SparkContext</b></p>\n",
              "\n",
              "            <p><a href=\"http://virens-air:4050\">Spark UI</a></p>\n",
              "\n",
              "            <dl>\n",
              "              <dt>Version</dt>\n",
              "                <dd><code>v3.2.0</code></dd>\n",
              "              <dt>Master</dt>\n",
              "                <dd><code>local[*]</code></dd>\n",
              "              <dt>AppName</dt>\n",
              "                <dd><code>pyspark-shell</code></dd>\n",
              "            </dl>\n",
              "        </div>\n",
              "        \n",
              "            </div>\n",
              "        "
            ],
            "text/plain": [
              "<pyspark.sql.session.SparkSession at 0x1213fa490>"
            ]
          },
          "execution_count": 276,
          "metadata": {},
          "output_type": "execute_result"
        }
      ],
      "source": [
        "spark"
      ]
    },
    {
      "cell_type": "markdown",
      "metadata": {
        "id": "Iid7lXcG1CY8"
      },
      "source": [
        "If you are running this Colab on the Google hosted runtime, the cell below will create a *ngrok* tunnel which will allow you to still check the Spark UI."
      ]
    },
    {
      "cell_type": "markdown",
      "metadata": {
        "id": "kAYRX2PMm0L6"
      },
      "source": [
        "### Data Loading"
      ]
    },
    {
      "cell_type": "markdown",
      "metadata": {
        "id": "7hXdMR6wnEIM"
      },
      "source": [
        "In this Colab, we will be using the [MovieLens dataset](https://grouplens.org/datasets/movielens/), specifically the 100K dataset (which contains in total 100,000 ratings from 1000 users on ~1700 movies).\n",
        "\n",
        "We load the ratings data in a 80%-20% ```training```/```test``` split, while the ```items``` dataframe contains the movie titles associated to the item identifiers."
      ]
    },
    {
      "cell_type": "code",
      "execution_count": 277,
      "metadata": {
        "id": "5K93ABEy9Zlo"
      },
      "outputs": [],
      "source": [
        "schema_ratings = StructType([\n",
        "    StructField(\"user_id\", IntegerType(), False),\n",
        "    StructField(\"item_id\", IntegerType(), False),\n",
        "    StructField(\"rating\", IntegerType(), False),\n",
        "    StructField(\"timestamp\", IntegerType(), False)])\n",
        "\n",
        "schema_items = StructType([\n",
        "    StructField(\"item_id\", IntegerType(), False),\n",
        "    StructField(\"movie\", StringType(), False)])\n",
        "\n",
        "training = spark.read.option(\"sep\", \"\\t\").csv(\"MovieLens.training\", header=False, schema=schema_ratings)\n",
        "test = spark.read.option(\"sep\", \"\\t\").csv(\"MovieLens.test\", header=False, schema=schema_ratings)\n",
        "items = spark.read.option(\"sep\", \"|\").csv(\"MovieLens.item\", header=False, schema=schema_items)"
      ]
    },
    {
      "cell_type": "code",
      "execution_count": 278,
      "metadata": {
        "colab": {
          "base_uri": "https://localhost:8080/"
        },
        "id": "MC_m1oygCoEm",
        "outputId": "776b63da-b084-4881-cef0-6b7c0b6271cc"
      },
      "outputs": [
        {
          "name": "stdout",
          "output_type": "stream",
          "text": [
            "root\n",
            " |-- user_id: integer (nullable = true)\n",
            " |-- item_id: integer (nullable = true)\n",
            " |-- rating: integer (nullable = true)\n",
            " |-- timestamp: integer (nullable = true)\n",
            "\n"
          ]
        }
      ],
      "source": [
        "training.printSchema()"
      ]
    },
    {
      "cell_type": "code",
      "execution_count": 279,
      "metadata": {
        "colab": {
          "base_uri": "https://localhost:8080/"
        },
        "id": "81Vgo4ovCqtQ",
        "outputId": "53f0f22d-ba95-43c9-c322-784528f80457"
      },
      "outputs": [
        {
          "name": "stdout",
          "output_type": "stream",
          "text": [
            "root\n",
            " |-- item_id: integer (nullable = true)\n",
            " |-- movie: string (nullable = true)\n",
            "\n"
          ]
        }
      ],
      "source": [
        "items.printSchema()"
      ]
    },
    {
      "cell_type": "markdown",
      "metadata": {
        "id": "CRaF2A_j_nC7"
      },
      "source": [
        "### Your task"
      ]
    },
    {
      "cell_type": "markdown",
      "metadata": {
        "id": "zM9w2aUvJ7KN"
      },
      "source": [
        "Let's compute some stats!  What is the number of ratings in the training and test dataset? How many movies are in our dataset?"
      ]
    },
    {
      "cell_type": "code",
      "execution_count": 280,
      "metadata": {
        "id": "We3ps8gOQbD3"
      },
      "outputs": [
        {
          "name": "stderr",
          "output_type": "stream",
          "text": [
            "                                                                                \r"
          ]
        },
        {
          "data": {
            "text/plain": [
              "80000"
            ]
          },
          "execution_count": 280,
          "metadata": {},
          "output_type": "execute_result"
        }
      ],
      "source": [
        "#Count the number of ratings \n",
        "training.count()"
      ]
    },
    {
      "cell_type": "code",
      "execution_count": 281,
      "metadata": {
        "id": "XFSTZ1sMljmU"
      },
      "outputs": [
        {
          "data": {
            "text/plain": [
              "20000"
            ]
          },
          "execution_count": 281,
          "metadata": {},
          "output_type": "execute_result"
        }
      ],
      "source": [
        "test.count()"
      ]
    },
    {
      "cell_type": "code",
      "execution_count": 282,
      "metadata": {},
      "outputs": [
        {
          "data": {
            "text/plain": [
              "1682"
            ]
          },
          "execution_count": 282,
          "metadata": {},
          "output_type": "execute_result"
        }
      ],
      "source": [
        "items.count()"
      ]
    },
    {
      "cell_type": "markdown",
      "metadata": {
        "id": "wpsaYOqRxar2"
      },
      "source": [
        "Using the training set, train a model with the Alternating Least Squares method available in the Spark MLlib: [https://spark.apache.org/docs/latest/ml-collaborative-filtering.html](https://spark.apache.org/docs/latest/ml-collaborative-filtering.html)\n",
        "\n",
        "maxIter = 5, regParam=0.01"
      ]
    },
    {
      "cell_type": "code",
      "execution_count": 283,
      "metadata": {
        "id": "RsO6prE_XTbj"
      },
      "outputs": [],
      "source": [
        "from pyspark.ml.recommendation import ALS\n",
        "from pyspark.ml.evaluation import RegressionEvaluator"
      ]
    },
    {
      "cell_type": "code",
      "execution_count": 284,
      "metadata": {
        "id": "Oitav_xhQD9w"
      },
      "outputs": [],
      "source": [
        "# YOUR CODE HERE\n",
        "als = ALS(maxIter=5, regParam=0.01, userCol=\"user_id\", itemCol=\"item_id\", ratingCol=\"rating\", coldStartStrategy=\"drop\")"
      ]
    },
    {
      "cell_type": "code",
      "execution_count": 285,
      "metadata": {
        "id": "oHssUbiblla6"
      },
      "outputs": [
        {
          "name": "stderr",
          "output_type": "stream",
          "text": [
            "                                                                                \r"
          ]
        }
      ],
      "source": [
        "model = als.fit(training)"
      ]
    },
    {
      "cell_type": "markdown",
      "metadata": {
        "id": "TtR1xRvonxiO"
      },
      "source": [
        "Now compute the RMSE on the test dataset.\n"
      ]
    },
    {
      "cell_type": "code",
      "execution_count": 286,
      "metadata": {
        "id": "7cctASSrQ3eU"
      },
      "outputs": [],
      "source": [
        "#First we will have to make rpedictions for the test set\n",
        "predictions = model.transform(test)\n"
      ]
    },
    {
      "cell_type": "code",
      "execution_count": 287,
      "metadata": {},
      "outputs": [
        {
          "name": "stderr",
          "output_type": "stream",
          "text": [
            "                                                                                \r"
          ]
        },
        {
          "name": "stdout",
          "output_type": "stream",
          "text": [
            "+-------+-------+------+---------+----------+\n",
            "|user_id|item_id|rating|timestamp|prediction|\n",
            "+-------+-------+------+---------+----------+\n",
            "|    148|      1|     4|877019411|  4.228874|\n",
            "|    148|      7|     5|877017054| 3.5808556|\n",
            "|    148|     70|     5|877021271| 2.0453598|\n",
            "|    148|     71|     5|877019251|   3.86548|\n",
            "|    148|     78|     1|877399018| 2.6410918|\n",
            "+-------+-------+------+---------+----------+\n",
            "only showing top 5 rows\n",
            "\n"
          ]
        }
      ],
      "source": [
        "predictions.show(5)"
      ]
    },
    {
      "cell_type": "code",
      "execution_count": 288,
      "metadata": {
        "id": "ToiJY_UOlmo9"
      },
      "outputs": [],
      "source": [
        "#Now we set up the evaluator\n",
        "evaluator = RegressionEvaluator(metricName=\"rmse\", labelCol=\"rating\", predictionCol=\"prediction\")"
      ]
    },
    {
      "cell_type": "code",
      "execution_count": 289,
      "metadata": {},
      "outputs": [
        {
          "name": "stderr",
          "output_type": "stream",
          "text": [
            "                                                                                \r"
          ]
        }
      ],
      "source": [
        "#And finally we compute the RMSE\n",
        "rsme = evaluator.evaluate(predictions)"
      ]
    },
    {
      "cell_type": "code",
      "execution_count": 207,
      "metadata": {},
      "outputs": [
        {
          "data": {
            "text/plain": [
              "1.1281907515250782"
            ]
          },
          "execution_count": 207,
          "metadata": {},
          "output_type": "execute_result"
        }
      ],
      "source": [
        "rsme"
      ]
    },
    {
      "cell_type": "markdown",
      "metadata": {},
      "source": [
        "The RSME on the test dataset is 1.1281907515250782"
      ]
    },
    {
      "cell_type": "markdown",
      "metadata": {
        "id": "lBvSaWGEMHXI"
      },
      "source": [
        "At this point, you can use the trained model to produce the top-K recommendations for each user.  Recommend the top three movies for each user. "
      ]
    },
    {
      "cell_type": "code",
      "execution_count": 290,
      "metadata": {
        "id": "h2LOG5RvQ9p6"
      },
      "outputs": [
        {
          "name": "stderr",
          "output_type": "stream",
          "text": [
            "/opt/homebrew/lib/python3.9/site-packages/pyspark/sql/context.py:125: FutureWarning: Deprecated in 3.0.0. Use SparkSession.builder.getOrCreate() instead.\n",
            "  warnings.warn(\n"
          ]
        }
      ],
      "source": [
        "userRecs = model.recommendForAllUsers(3)"
      ]
    },
    {
      "cell_type": "code",
      "execution_count": 294,
      "metadata": {
        "id": "MgtQrNJ4lp6O"
      },
      "outputs": [],
      "source": [
        "# show the first userid and the first three recommendations\n",
        "first_user_d =  userRecs.toPandas().head(1)"
      ]
    },
    {
      "cell_type": "code",
      "execution_count": 305,
      "metadata": {},
      "outputs": [
        {
          "name": "stdout",
          "output_type": "stream",
          "text": [
            "These are the recommendations for the first user:\n",
            "Angel Baby (1995)\n",
            "Shall We Dance? (1937)\n",
            "Boys of St. Vincent, The (1993)\n"
          ]
        }
      ],
      "source": [
        "print(\"These are the recommendations for the first user:\")\n",
        "for item in first_user_d['recommendations'].head(3)[0]:\n",
        "    print(items.filter(items.item_id == item['item_id']).select(\"movie\").collect()[0]['movie'])"
      ]
    },
    {
      "cell_type": "markdown",
      "metadata": {
        "id": "pAOmc6JHaDmj"
      },
      "source": [
        "Print the name of the movies recommended for user 444  "
      ]
    },
    {
      "cell_type": "code",
      "execution_count": 216,
      "metadata": {
        "id": "CtYHcLV9REjP"
      },
      "outputs": [],
      "source": [
        "#First we get the top 3 recommendations for the 444 user\n",
        "reccomendation = userRecs.filter(userRecs.user_id == 444)"
      ]
    },
    {
      "cell_type": "code",
      "execution_count": 217,
      "metadata": {},
      "outputs": [
        {
          "data": {
            "text/plain": [
              "DataFrame[user_id: int, recommendations: array<struct<item_id:int,rating:float>>]"
            ]
          },
          "execution_count": 217,
          "metadata": {},
          "output_type": "execute_result"
        }
      ],
      "source": [
        "reccomendation"
      ]
    },
    {
      "cell_type": "code",
      "execution_count": 218,
      "metadata": {
        "id": "R2c_n9MnROY2"
      },
      "outputs": [
        {
          "name": "stderr",
          "output_type": "stream",
          "text": [
            "                                                                                \r"
          ]
        }
      ],
      "source": [
        "#get list of movies for the 444 user\n",
        "temp = reccomendation.collect()"
      ]
    },
    {
      "cell_type": "code",
      "execution_count": 219,
      "metadata": {},
      "outputs": [],
      "source": [
        "ls = [items.filter(items.item_id == i['item_id']).select('movie').collect()[0][0] for i in temp[0][1]]"
      ]
    },
    {
      "cell_type": "code",
      "execution_count": 307,
      "metadata": {},
      "outputs": [
        {
          "name": "stdout",
          "output_type": "stream",
          "text": [
            "These are the recommendations for the 444 user :\n",
            "Beautiful Thing (1996)\n",
            "Ruby in Paradise (1993)\n",
            "Higher Learning (1995)\n"
          ]
        }
      ],
      "source": [
        "print(\"These are the recommendations for the 444 user :\" )\n",
        "for i in ls:\n",
        "    print(i)"
      ]
    },
    {
      "cell_type": "markdown",
      "metadata": {
        "id": "_YRZQ0Txt1pR"
      },
      "source": [
        "## Part 2: Collaborative Filtering (60 Points)"
      ]
    },
    {
      "cell_type": "markdown",
      "metadata": {
        "id": "vtZlbp2s9mgi"
      },
      "source": [
        "scikit-surprise(http://surpriselib.com/) is a good library for multiple recommender systems algorithms. <br>You may start playing around with wrapper functions from the link provided.\n",
        "\n",
        "Hint: Transform pyspark dataframe into pandas dataframe"
      ]
    },
    {
      "cell_type": "code",
      "execution_count": 137,
      "metadata": {
        "colab": {
          "base_uri": "https://localhost:8080/"
        },
        "id": "JgBu6Sp78OVi",
        "outputId": "55fa2346-57b3-4dca-c433-957db32986a2"
      },
      "outputs": [
        {
          "name": "stdout",
          "output_type": "stream",
          "text": [
            "\u001b[33mDEPRECATION: Configuring installation scheme with distutils config files is deprecated and will no longer work in the near future. If you are using a Homebrew or Linuxbrew Python, please see discussion at https://github.com/Homebrew/homebrew-core/issues/76621\u001b[0m\u001b[33m\n",
            "\u001b[0mCollecting scikit-surprise\n",
            "  Downloading scikit-surprise-1.1.1.tar.gz (11.8 MB)\n",
            "\u001b[2K     \u001b[90m━━━━━━━━━━━━━━━━━━━━━━━━━━━━━━━━━━━━━━━━\u001b[0m \u001b[32m11.8/11.8 MB\u001b[0m \u001b[31m2.8 MB/s\u001b[0m eta \u001b[36m0:00:00\u001b[0m00:01\u001b[0m00:01\u001b[0m\n",
            "\u001b[?25h  Preparing metadata (setup.py) ... \u001b[?25ldone\n",
            "\u001b[?25hRequirement already satisfied: joblib>=0.11 in /opt/homebrew/lib/python3.9/site-packages (from scikit-surprise) (1.1.0)\n",
            "Requirement already satisfied: numpy>=1.11.2 in /opt/homebrew/lib/python3.9/site-packages (from scikit-surprise) (1.21.3)\n",
            "Requirement already satisfied: scipy>=1.0.0 in /opt/homebrew/lib/python3.9/site-packages (from scikit-surprise) (1.8.0)\n",
            "Requirement already satisfied: six>=1.10.0 in /opt/homebrew/lib/python3.9/site-packages (from scikit-surprise) (1.16.0)\n",
            "Building wheels for collected packages: scikit-surprise\n",
            "  Building wheel for scikit-surprise (setup.py) ... \u001b[?25ldone\n",
            "\u001b[?25h  Created wheel for scikit-surprise: filename=scikit_surprise-1.1.1-cp39-cp39-macosx_12_0_arm64.whl size=751294 sha256=bc5407699fb192f0c83076381835a88e5c2855a0cc2336e02ed553fa7b53481c\n",
            "  Stored in directory: /Users/virenmanojparmar/Library/Caches/pip/wheels/6b/10/c9/7f607c8cb522ef378844f41e63b30d7181a6495d2c1ae514e9\n",
            "Successfully built scikit-surprise\n",
            "Installing collected packages: scikit-surprise\n",
            "\u001b[33m  DEPRECATION: Configuring installation scheme with distutils config files is deprecated and will no longer work in the near future. If you are using a Homebrew or Linuxbrew Python, please see discussion at https://github.com/Homebrew/homebrew-core/issues/76621\u001b[0m\u001b[33m\n",
            "\u001b[0m\u001b[33mDEPRECATION: Configuring installation scheme with distutils config files is deprecated and will no longer work in the near future. If you are using a Homebrew or Linuxbrew Python, please see discussion at https://github.com/Homebrew/homebrew-core/issues/76621\u001b[0m\u001b[33m\n",
            "\u001b[0mSuccessfully installed scikit-surprise-1.1.1\n"
          ]
        }
      ],
      "source": [
        "# install surprise to build recommender in python\n",
        "!pip install scikit-surprise"
      ]
    },
    {
      "cell_type": "markdown",
      "metadata": {
        "id": "m1WKy3DJst2s"
      },
      "source": [
        "### Task. Memory-based Filtering \n",
        "\n",
        "Your task is to train a predictor using the `training` set provided above, and make predictions on the `test` set."
      ]
    },
    {
      "cell_type": "markdown",
      "metadata": {
        "id": "xwDY23pa-fBz"
      },
      "source": [
        "A. User-based recommendation\n",
        "\n",
        "To make a prediction on user $u$'s rating on item $i$ ($R_{u, i}$), User-based recommendation finds the top-N user neighbors who have already completed rating on $i$, taking their average (unweighted or weighted by their similarity with $u$) as the prediction $\\hat{R}_{u,i}$.\n"
      ]
    },
    {
      "cell_type": "markdown",
      "metadata": {
        "id": "rZlEfdJlY3b_"
      },
      "source": [
        "(1). Use default parameters, report *RMSE* on training & test set, respectively."
      ]
    },
    {
      "cell_type": "code",
      "execution_count": 308,
      "metadata": {
        "id": "TXbygNacOZmW"
      },
      "outputs": [],
      "source": [
        "from surprise import KNNWithMeans\n",
        "from surprise import Reader\n",
        "from surprise import Dataset\n",
        "import math"
      ]
    },
    {
      "cell_type": "code",
      "execution_count": 309,
      "metadata": {},
      "outputs": [
        {
          "name": "stderr",
          "output_type": "stream",
          "text": [
            "                                                                                \r"
          ]
        }
      ],
      "source": [
        "trainingPd = training.toPandas()\n",
        "testPd = test.toPandas()\n",
        "itemsPd = items.toPandas()"
      ]
    },
    {
      "cell_type": "code",
      "execution_count": 310,
      "metadata": {},
      "outputs": [],
      "source": [
        "reader = Reader(rating_scale=(1,5))"
      ]
    },
    {
      "cell_type": "code",
      "execution_count": 311,
      "metadata": {},
      "outputs": [],
      "source": [
        "trainingPd.drop(['timestamp'], axis=1, inplace=True)\n",
        "testPd.drop(['timestamp'], axis=1, inplace=True)"
      ]
    },
    {
      "cell_type": "code",
      "execution_count": 312,
      "metadata": {
        "id": "efzVg973TY1L"
      },
      "outputs": [],
      "source": [
        "# Your code here\n",
        "traindata = Dataset.load_from_df(trainingPd[['user_id', 'item_id', 'rating']], reader)\n",
        "testdata = Dataset.load_from_df(testPd[['user_id', 'item_id', 'rating']], reader)"
      ]
    },
    {
      "cell_type": "code",
      "execution_count": 313,
      "metadata": {},
      "outputs": [],
      "source": [
        "train_Dataset = traindata.build_full_trainset()"
      ]
    },
    {
      "cell_type": "code",
      "execution_count": 314,
      "metadata": {},
      "outputs": [],
      "source": [
        "model = KNNWithMeans(sim_options={'name': 'msd', 'user_based': True}, verbose=True)"
      ]
    },
    {
      "cell_type": "code",
      "execution_count": 315,
      "metadata": {},
      "outputs": [
        {
          "name": "stdout",
          "output_type": "stream",
          "text": [
            "Computing the msd similarity matrix...\n",
            "Done computing similarity matrix.\n"
          ]
        },
        {
          "data": {
            "text/plain": [
              "<surprise.prediction_algorithms.knns.KNNWithMeans at 0x16ca09e80>"
            ]
          },
          "execution_count": 315,
          "metadata": {},
          "output_type": "execute_result"
        }
      ],
      "source": [
        "model.fit(train_Dataset)"
      ]
    },
    {
      "cell_type": "code",
      "execution_count": 316,
      "metadata": {},
      "outputs": [],
      "source": [
        "testset_from_train = [traindata.df.loc[i].to_list() for i in range(len(traindata.df))]"
      ]
    },
    {
      "cell_type": "code",
      "execution_count": 317,
      "metadata": {},
      "outputs": [],
      "source": [
        "predictions = model.test(testset_from_train)"
      ]
    },
    {
      "cell_type": "code",
      "execution_count": 318,
      "metadata": {},
      "outputs": [
        {
          "data": {
            "text/plain": [
              "80000"
            ]
          },
          "execution_count": 318,
          "metadata": {},
          "output_type": "execute_result"
        }
      ],
      "source": [
        "len(predictions)"
      ]
    },
    {
      "cell_type": "code",
      "execution_count": 319,
      "metadata": {},
      "outputs": [
        {
          "data": {
            "text/plain": [
              "80000"
            ]
          },
          "execution_count": 319,
          "metadata": {},
          "output_type": "execute_result"
        }
      ],
      "source": [
        "len(testset_from_train)"
      ]
    },
    {
      "cell_type": "markdown",
      "metadata": {
        "id": "cSbkzmEDbfAi"
      },
      "source": [
        "Calculate RMSE of the actual ratings $R$ and the predicted ratings $\\hat{R}$ in the training set."
      ]
    },
    {
      "cell_type": "code",
      "execution_count": 320,
      "metadata": {
        "id": "HrupefNdl6-6"
      },
      "outputs": [
        {
          "name": "stdout",
          "output_type": "stream",
          "text": [
            "The RMDE for training set is  0.7569412498224154\n"
          ]
        }
      ],
      "source": [
        "# Your code here\n",
        "sum = 0.0\n",
        "for i,j in zip(testset_from_train, predictions):\n",
        "    sum += (i[2] - j.est)**2\n",
        "print(\"The RMDE for training set is \", math.sqrt(sum/len(testset_from_train)))"
      ]
    },
    {
      "cell_type": "markdown",
      "metadata": {
        "id": "1fXgs11lWCcF"
      },
      "source": [
        "Now let's make predictions on the test set"
      ]
    },
    {
      "cell_type": "code",
      "execution_count": 273,
      "metadata": {
        "id": "FttXVaMul-KG"
      },
      "outputs": [],
      "source": [
        "testset_from_test = [testdata.df.loc[i].to_list() for i in range(len(testdata.df))]"
      ]
    },
    {
      "cell_type": "code",
      "execution_count": 274,
      "metadata": {
        "id": "GF4bMBhlSb34"
      },
      "outputs": [],
      "source": [
        "predictions_for_test_set =  model.test(testset_from_test)"
      ]
    },
    {
      "cell_type": "markdown",
      "metadata": {
        "id": "D9qPJXotW1Jj"
      },
      "source": [
        "Calculate RMSE of the actual ratings $R$ and the predicted ratings $\\hat{R}$ from the trained user-based recommendation."
      ]
    },
    {
      "cell_type": "code",
      "execution_count": 322,
      "metadata": {
        "id": "zXS1ykHHnF5L"
      },
      "outputs": [
        {
          "name": "stdout",
          "output_type": "stream",
          "text": [
            "The RMSE for the test set is:  0.9649111798953487\n"
          ]
        }
      ],
      "source": [
        "# Your code here\n",
        "sum = 0.0\n",
        "for i,j in zip(testset_from_test, predictions_for_test_set):\n",
        "    sum += (i[2] - j.est)**2\n",
        "print(\"The RMSE for the test set is: \", math.sqrt(sum/len(testset_from_test)))"
      ]
    },
    {
      "cell_type": "markdown",
      "metadata": {
        "id": "Twu6IIH6chLo"
      },
      "source": [
        "(2). Now display the top 10 movies for user 10, ranked by the predicted rating scores in the test set."
      ]
    },
    {
      "cell_type": "code",
      "execution_count": 323,
      "metadata": {
        "id": "uE4zu0Rici1L"
      },
      "outputs": [],
      "source": [
        "# Your code here\n",
        "predictions_for_test_set_df = pd.DataFrame(predictions_for_test_set)"
      ]
    },
    {
      "cell_type": "code",
      "execution_count": 242,
      "metadata": {},
      "outputs": [
        {
          "data": {
            "text/plain": [
              "<bound method NDFrame.head of        uid   iid  r_ui       est                                    details\n",
              "0        1     6     5  3.684493  {'actual_k': 20, 'was_impossible': False}\n",
              "1        1    10     3  3.830113  {'actual_k': 40, 'was_impossible': False}\n",
              "2        1    12     5  4.413642  {'actual_k': 40, 'was_impossible': False}\n",
              "3        1    14     5  4.156297  {'actual_k': 40, 'was_impossible': False}\n",
              "4        1    17     3  3.504539  {'actual_k': 40, 'was_impossible': False}\n",
              "...    ...   ...   ...       ...                                        ...\n",
              "19995  458   648     4  3.913156  {'actual_k': 40, 'was_impossible': False}\n",
              "19996  458  1101     4  3.879986  {'actual_k': 40, 'was_impossible': False}\n",
              "19997  459   934     3  2.853176  {'actual_k': 40, 'was_impossible': False}\n",
              "19998  460    10     3  3.860369  {'actual_k': 40, 'was_impossible': False}\n",
              "19999  462   682     5  3.711871  {'actual_k': 40, 'was_impossible': False}\n",
              "\n",
              "[20000 rows x 5 columns]>"
            ]
          },
          "execution_count": 242,
          "metadata": {},
          "output_type": "execute_result"
        }
      ],
      "source": [
        "predictions_for_test_set_df.head"
      ]
    },
    {
      "cell_type": "code",
      "execution_count": 243,
      "metadata": {
        "id": "vkq3UiTQmHtW"
      },
      "outputs": [],
      "source": [
        "list_of_item_id = predictions_for_test_set_df[predictions_for_test_set_df['uid'] == 10].sort_values(by='est', ascending=False)[['iid']][:10]"
      ]
    },
    {
      "cell_type": "code",
      "execution_count": 244,
      "metadata": {},
      "outputs": [],
      "source": [
        "movie_ls_user_10 = [items.filter(items.item_id == i).select('movie').collect()[0][0] for i in list_of_item_id['iid']]"
      ]
    },
    {
      "cell_type": "code",
      "execution_count": 325,
      "metadata": {},
      "outputs": [
        {
          "name": "stdout",
          "output_type": "stream",
          "text": [
            "These are the top 10 recommendations for user 10 using user based recommendation\n",
            "\t Casablanca (1942)\n",
            "\t Shawshank Redemption, The (1994)\n",
            "\t Bridge on the River Kwai, The (1957)\n",
            "\t Dr. Strangelove or: How I Learned to Stop Worrying and Love the Bomb (1963)\n",
            "\t Godfather, The (1972)\n",
            "\t Silence of the Lambs, The (1991)\n",
            "\t Secrets & Lies (1996)\n",
            "\t Rear Window (1954)\n",
            "\t Sunset Blvd. (1950)\n",
            "\t Sense and Sensibility (1995)\n"
          ]
        }
      ],
      "source": [
        "print(\"These are the top 10 recommendations for user 10 using user based recommendation\")\n",
        "for i in movie_ls_user_10:\n",
        "    print(\"\\t\",i)"
      ]
    },
    {
      "cell_type": "markdown",
      "metadata": {
        "id": "pgcPKKcCjxxh"
      },
      "source": [
        "(3). From what we learned in class, the number of nearest neighbors ($k$) considered for rating estimation $\\hat{R}$ is an important hyperparameter affecting the prediction results. Repeat the training procedure above with different nearest neighbor selections (2-10), find the optimal $k$ in your experiment and report the corresponding *RMSE* in the test set."
      ]
    },
    {
      "cell_type": "code",
      "execution_count": 326,
      "metadata": {
        "id": "t95PXUoHnUki"
      },
      "outputs": [],
      "source": [
        "# Your code here\n",
        "k_values = [2, 3, 4, 5, 6, 7, 8, 9, 10]"
      ]
    },
    {
      "cell_type": "code",
      "execution_count": 327,
      "metadata": {
        "id": "nn1RcxX6mIbI"
      },
      "outputs": [
        {
          "name": "stdout",
          "output_type": "stream",
          "text": [
            "2\n",
            "Computing the msd similarity matrix...\n",
            "Done computing similarity matrix.\n",
            "25313.730832503894\n",
            "1.125027351500929\n",
            "3\n",
            "Computing the msd similarity matrix...\n",
            "Done computing similarity matrix.\n",
            "22947.339059578953\n",
            "1.0711521614499724\n",
            "4\n",
            "Computing the msd similarity matrix...\n",
            "Done computing similarity matrix.\n",
            "21706.860919788192\n",
            "1.041797987130619\n",
            "5\n",
            "Computing the msd similarity matrix...\n",
            "Done computing similarity matrix.\n",
            "20998.31789061568\n",
            "1.0246540365073393\n",
            "6\n",
            "Computing the msd similarity matrix...\n",
            "Done computing similarity matrix.\n",
            "20518.669452052298\n",
            "1.0128837409113718\n",
            "7\n",
            "Computing the msd similarity matrix...\n",
            "Done computing similarity matrix.\n",
            "20173.815842066248\n",
            "1.0043359956226363\n",
            "8\n",
            "Computing the msd similarity matrix...\n",
            "Done computing similarity matrix.\n",
            "19894.406486848424\n",
            "0.997356668570688\n",
            "9\n",
            "Computing the msd similarity matrix...\n",
            "Done computing similarity matrix.\n",
            "19695.312217956034\n",
            "0.9923535715146098\n",
            "10\n",
            "Computing the msd similarity matrix...\n",
            "Done computing similarity matrix.\n",
            "19569.72776354551\n",
            "0.98918470882706\n"
          ]
        }
      ],
      "source": [
        "RMSE = []\n",
        "for k in k_values:\n",
        "    print(k)\n",
        "    modelk = KNNWithMeans(k=k, min_k=1, sim_options={'name': 'msd', 'user_based': True}, verbose=True)\n",
        "    modelk.fit(train_Dataset)\n",
        "    predictionsk = modelk.test(testset_from_test)\n",
        "    sum = 0.0\n",
        "    for i,j in zip(testset_from_test, predictionsk):\n",
        "        sum += (i[2] - j.est)**2\n",
        "    print(sum)\n",
        "    print(math.sqrt(sum/len(testset_from_test)))\n",
        "    RMSE.append(math.sqrt(sum/len(testset_from_test)))\n",
        "    "
      ]
    },
    {
      "cell_type": "code",
      "execution_count": 329,
      "metadata": {},
      "outputs": [
        {
          "data": {
            "image/png": "[encoded data removed]",
            "text/plain": [
              "<Figure size 432x288 with 1 Axes>"
            ]
          },
          "metadata": {
            "needs_background": "light"
          },
          "output_type": "display_data"
        }
      ],
      "source": [
        "import matplotlib.pyplot as plt\n",
        "\n",
        "plt.plot(k_values, RMSE)\n",
        "plt.xlabel('K values')\n",
        "plt.ylabel('RMSE')\n",
        "plt.show()"
      ]
    },
    {
      "cell_type": "markdown",
      "metadata": {
        "id": "M8VS4LnKn6zv"
      },
      "source": [
        "Note that we can write a for-loop to iterate throuogh different choices, but scikit-surprise provides us with a simplified cross-validation interface (`surprise.model_selection.GridSearchCV`) to fine-tune such hyperparameter.\n",
        "\n",
        "\n",
        "Report the optimal k value. \n",
        "\n",
        "Report the RMSE given the optimal k value"
      ]
    },
    {
      "cell_type": "code",
      "execution_count": 330,
      "metadata": {
        "id": "5QMlaQ_dpRbn"
      },
      "outputs": [],
      "source": [
        "from surprise.model_selection import GridSearchCV"
      ]
    },
    {
      "cell_type": "code",
      "execution_count": 331,
      "metadata": {
        "id": "tCikva6CXMvj"
      },
      "outputs": [
        {
          "name": "stdout",
          "output_type": "stream",
          "text": [
            "Computing the msd similarity matrix...\n",
            "Done computing similarity matrix.\n",
            "Computing the msd similarity matrix...\n",
            "Done computing similarity matrix.\n",
            "Computing the msd similarity matrix...\n",
            "Done computing similarity matrix.\n",
            "Computing the msd similarity matrix...\n",
            "Done computing similarity matrix.\n",
            "Computing the msd similarity matrix...\n",
            "Done computing similarity matrix.\n",
            "Computing the msd similarity matrix...\n",
            "Done computing similarity matrix.\n",
            "Computing the msd similarity matrix...\n",
            "Done computing similarity matrix.\n",
            "Computing the msd similarity matrix...\n",
            "Done computing similarity matrix.\n",
            "Computing the msd similarity matrix...\n",
            "Done computing similarity matrix.\n",
            "Computing the msd similarity matrix...\n",
            "Done computing similarity matrix.\n",
            "Computing the msd similarity matrix...\n",
            "Done computing similarity matrix.\n",
            "Computing the msd similarity matrix...\n",
            "Done computing similarity matrix.\n",
            "Computing the msd similarity matrix...\n",
            "Done computing similarity matrix.\n",
            "Computing the msd similarity matrix...\n",
            "Done computing similarity matrix.\n",
            "Computing the msd similarity matrix...\n",
            "Done computing similarity matrix.\n",
            "Computing the msd similarity matrix...\n",
            "Done computing similarity matrix.\n",
            "Computing the msd similarity matrix...\n",
            "Done computing similarity matrix.\n",
            "Computing the msd similarity matrix...\n",
            "Done computing similarity matrix.\n",
            "Computing the msd similarity matrix...\n",
            "Done computing similarity matrix.\n",
            "Computing the msd similarity matrix...\n",
            "Done computing similarity matrix.\n",
            "Computing the msd similarity matrix...\n",
            "Done computing similarity matrix.\n",
            "Computing the msd similarity matrix...\n",
            "Done computing similarity matrix.\n",
            "Computing the msd similarity matrix...\n",
            "Done computing similarity matrix.\n",
            "Computing the msd similarity matrix...\n",
            "Done computing similarity matrix.\n",
            "Computing the msd similarity matrix...\n",
            "Done computing similarity matrix.\n",
            "Computing the msd similarity matrix...\n",
            "Done computing similarity matrix.\n",
            "Computing the msd similarity matrix...\n",
            "Done computing similarity matrix.\n"
          ]
        },
        {
          "data": {
            "text/plain": [
              "0.9874638702908748"
            ]
          },
          "execution_count": 331,
          "metadata": {},
          "output_type": "execute_result"
        }
      ],
      "source": [
        "# Your code her\n",
        "param_grid = {'k': [2, 3, 4, 5, 6, 7, 8, 9, 10]}\n",
        "gs = GridSearchCV(KNNWithMeans, param_grid, measures=['rmse'], cv=3)\n",
        "gs.fit(traindata)\n",
        "gs.best_score['rmse']\n",
        "\n"
      ]
    },
    {
      "cell_type": "code",
      "execution_count": 332,
      "metadata": {},
      "outputs": [],
      "source": [
        "results_df = pd.DataFrame.from_dict(gs.cv_results)"
      ]
    },
    {
      "cell_type": "code",
      "execution_count": 333,
      "metadata": {},
      "outputs": [
        {
          "data": {
            "text/html": [
              "<div>\n",
              "<style scoped>\n",
              "    .dataframe tbody tr th:only-of-type {\n",
              "        vertical-align: middle;\n",
              "    }\n",
              "\n",
              "    .dataframe tbody tr th {\n",
              "        vertical-align: top;\n",
              "    }\n",
              "\n",
              "    .dataframe thead th {\n",
              "        text-align: right;\n",
              "    }\n",
              "</style>\n",
              "<table border=\"1\" class=\"dataframe\">\n",
              "  <thead>\n",
              "    <tr style=\"text-align: right;\">\n",
              "      <th></th>\n",
              "      <th>split0_test_rmse</th>\n",
              "      <th>split1_test_rmse</th>\n",
              "      <th>split2_test_rmse</th>\n",
              "      <th>mean_test_rmse</th>\n",
              "      <th>std_test_rmse</th>\n",
              "      <th>rank_test_rmse</th>\n",
              "      <th>mean_fit_time</th>\n",
              "      <th>std_fit_time</th>\n",
              "      <th>mean_test_time</th>\n",
              "      <th>std_test_time</th>\n",
              "      <th>params</th>\n",
              "      <th>param_k</th>\n",
              "    </tr>\n",
              "  </thead>\n",
              "  <tbody>\n",
              "    <tr>\n",
              "      <th>0</th>\n",
              "      <td>1.130999</td>\n",
              "      <td>1.126768</td>\n",
              "      <td>1.133172</td>\n",
              "      <td>1.130313</td>\n",
              "      <td>0.002659</td>\n",
              "      <td>9</td>\n",
              "      <td>0.108797</td>\n",
              "      <td>0.021815</td>\n",
              "      <td>1.178684</td>\n",
              "      <td>0.289840</td>\n",
              "      <td>{'k': 2}</td>\n",
              "      <td>2</td>\n",
              "    </tr>\n",
              "    <tr>\n",
              "      <th>1</th>\n",
              "      <td>1.074065</td>\n",
              "      <td>1.068652</td>\n",
              "      <td>1.074963</td>\n",
              "      <td>1.072560</td>\n",
              "      <td>0.002788</td>\n",
              "      <td>8</td>\n",
              "      <td>0.085819</td>\n",
              "      <td>0.008004</td>\n",
              "      <td>0.885326</td>\n",
              "      <td>0.033193</td>\n",
              "      <td>{'k': 3}</td>\n",
              "      <td>3</td>\n",
              "    </tr>\n",
              "    <tr>\n",
              "      <th>2</th>\n",
              "      <td>1.045037</td>\n",
              "      <td>1.039769</td>\n",
              "      <td>1.044802</td>\n",
              "      <td>1.043203</td>\n",
              "      <td>0.002430</td>\n",
              "      <td>7</td>\n",
              "      <td>0.071118</td>\n",
              "      <td>0.004824</td>\n",
              "      <td>0.873810</td>\n",
              "      <td>0.074967</td>\n",
              "      <td>{'k': 4}</td>\n",
              "      <td>4</td>\n",
              "    </tr>\n",
              "    <tr>\n",
              "      <th>3</th>\n",
              "      <td>1.024464</td>\n",
              "      <td>1.022514</td>\n",
              "      <td>1.026467</td>\n",
              "      <td>1.024482</td>\n",
              "      <td>0.001613</td>\n",
              "      <td>6</td>\n",
              "      <td>0.093042</td>\n",
              "      <td>0.008024</td>\n",
              "      <td>1.347110</td>\n",
              "      <td>0.152429</td>\n",
              "      <td>{'k': 5}</td>\n",
              "      <td>5</td>\n",
              "    </tr>\n",
              "    <tr>\n",
              "      <th>4</th>\n",
              "      <td>1.011541</td>\n",
              "      <td>1.010857</td>\n",
              "      <td>1.014224</td>\n",
              "      <td>1.012207</td>\n",
              "      <td>0.001453</td>\n",
              "      <td>5</td>\n",
              "      <td>0.092125</td>\n",
              "      <td>0.020142</td>\n",
              "      <td>0.982558</td>\n",
              "      <td>0.020357</td>\n",
              "      <td>{'k': 6}</td>\n",
              "      <td>6</td>\n",
              "    </tr>\n",
              "    <tr>\n",
              "      <th>5</th>\n",
              "      <td>1.003437</td>\n",
              "      <td>1.002611</td>\n",
              "      <td>1.005224</td>\n",
              "      <td>1.003757</td>\n",
              "      <td>0.001091</td>\n",
              "      <td>4</td>\n",
              "      <td>0.078542</td>\n",
              "      <td>0.010485</td>\n",
              "      <td>0.974679</td>\n",
              "      <td>0.065833</td>\n",
              "      <td>{'k': 7}</td>\n",
              "      <td>7</td>\n",
              "    </tr>\n",
              "    <tr>\n",
              "      <th>6</th>\n",
              "      <td>0.996010</td>\n",
              "      <td>0.996398</td>\n",
              "      <td>0.998376</td>\n",
              "      <td>0.996928</td>\n",
              "      <td>0.001036</td>\n",
              "      <td>3</td>\n",
              "      <td>0.075819</td>\n",
              "      <td>0.002955</td>\n",
              "      <td>1.167220</td>\n",
              "      <td>0.246153</td>\n",
              "      <td>{'k': 8}</td>\n",
              "      <td>8</td>\n",
              "    </tr>\n",
              "    <tr>\n",
              "      <th>7</th>\n",
              "      <td>0.990288</td>\n",
              "      <td>0.991521</td>\n",
              "      <td>0.993157</td>\n",
              "      <td>0.991656</td>\n",
              "      <td>0.001175</td>\n",
              "      <td>2</td>\n",
              "      <td>0.102795</td>\n",
              "      <td>0.031821</td>\n",
              "      <td>1.105970</td>\n",
              "      <td>0.111882</td>\n",
              "      <td>{'k': 9}</td>\n",
              "      <td>9</td>\n",
              "    </tr>\n",
              "    <tr>\n",
              "      <th>8</th>\n",
              "      <td>0.986144</td>\n",
              "      <td>0.987058</td>\n",
              "      <td>0.989190</td>\n",
              "      <td>0.987464</td>\n",
              "      <td>0.001276</td>\n",
              "      <td>1</td>\n",
              "      <td>0.101006</td>\n",
              "      <td>0.013958</td>\n",
              "      <td>1.309583</td>\n",
              "      <td>0.295925</td>\n",
              "      <td>{'k': 10}</td>\n",
              "      <td>10</td>\n",
              "    </tr>\n",
              "  </tbody>\n",
              "</table>\n",
              "</div>"
            ],
            "text/plain": [
              "   split0_test_rmse  split1_test_rmse  split2_test_rmse  mean_test_rmse  \\\n",
              "0          1.130999          1.126768          1.133172        1.130313   \n",
              "1          1.074065          1.068652          1.074963        1.072560   \n",
              "2          1.045037          1.039769          1.044802        1.043203   \n",
              "3          1.024464          1.022514          1.026467        1.024482   \n",
              "4          1.011541          1.010857          1.014224        1.012207   \n",
              "5          1.003437          1.002611          1.005224        1.003757   \n",
              "6          0.996010          0.996398          0.998376        0.996928   \n",
              "7          0.990288          0.991521          0.993157        0.991656   \n",
              "8          0.986144          0.987058          0.989190        0.987464   \n",
              "\n",
              "   std_test_rmse  rank_test_rmse  mean_fit_time  std_fit_time  mean_test_time  \\\n",
              "0       0.002659               9       0.108797      0.021815        1.178684   \n",
              "1       0.002788               8       0.085819      0.008004        0.885326   \n",
              "2       0.002430               7       0.071118      0.004824        0.873810   \n",
              "3       0.001613               6       0.093042      0.008024        1.347110   \n",
              "4       0.001453               5       0.092125      0.020142        0.982558   \n",
              "5       0.001091               4       0.078542      0.010485        0.974679   \n",
              "6       0.001036               3       0.075819      0.002955        1.167220   \n",
              "7       0.001175               2       0.102795      0.031821        1.105970   \n",
              "8       0.001276               1       0.101006      0.013958        1.309583   \n",
              "\n",
              "   std_test_time     params  param_k  \n",
              "0       0.289840   {'k': 2}        2  \n",
              "1       0.033193   {'k': 3}        3  \n",
              "2       0.074967   {'k': 4}        4  \n",
              "3       0.152429   {'k': 5}        5  \n",
              "4       0.020357   {'k': 6}        6  \n",
              "5       0.065833   {'k': 7}        7  \n",
              "6       0.246153   {'k': 8}        8  \n",
              "7       0.111882   {'k': 9}        9  \n",
              "8       0.295925  {'k': 10}       10  "
            ]
          },
          "execution_count": 333,
          "metadata": {},
          "output_type": "execute_result"
        }
      ],
      "source": [
        "results_df"
      ]
    },
    {
      "cell_type": "code",
      "execution_count": 334,
      "metadata": {},
      "outputs": [
        {
          "data": {
            "image/png": "[encoded data removed]",
            "text/plain": [
              "<Figure size 432x288 with 1 Axes>"
            ]
          },
          "metadata": {
            "needs_background": "light"
          },
          "output_type": "display_data"
        }
      ],
      "source": [
        "import matplotlib.pyplot as plt\n",
        "\n",
        "plt.plot(k_values, results_df['mean_test_rmse'])\n",
        "plt.xlabel('K values')\n",
        "plt.ylabel('RMSE')\n",
        "plt.show()"
      ]
    },
    {
      "cell_type": "markdown",
      "metadata": {},
      "source": [
        "##### The Best RMSE score is 0.9874638702908748 for k=10 and we will use this value of k for item based recommendation"
      ]
    },
    {
      "cell_type": "markdown",
      "metadata": {
        "id": "x6kjzFPPqwso"
      },
      "source": [
        "B. **item-based recommendation**\n",
        "\n",
        "To make a prediction on user $u$'s rating on item $i$ ($R_{u, i}$), Item-based recommendation finds the top-N item neighbors (the user has rated) to $i$, taking their average (unweighted or weighted by their similarity with $i$) as the prediction $\\hat{R}_{u,i}$.\n",
        "\n"
      ]
    },
    {
      "cell_type": "markdown",
      "metadata": {
        "id": "yn2cUNQ_swP0"
      },
      "source": [
        "(1). Similar to the previous question, implement the item-based recommender systems trained on the  `training` set, report the *RMSE* on both the `training` and `test` set. (Note: apply the optimal $k$ obtained in last question.)"
      ]
    },
    {
      "cell_type": "code",
      "execution_count": 253,
      "metadata": {
        "id": "p5oS52Yxj0U8"
      },
      "outputs": [],
      "source": [
        "model_item = KNNWithMeans(k=10, min_k=1, sim_options={'name': 'msd', 'user_based': False}, verbose=True)"
      ]
    },
    {
      "cell_type": "code",
      "execution_count": 254,
      "metadata": {
        "id": "bnPbOaHGmTTl"
      },
      "outputs": [
        {
          "name": "stdout",
          "output_type": "stream",
          "text": [
            "Computing the msd similarity matrix...\n",
            "Done computing similarity matrix.\n"
          ]
        },
        {
          "data": {
            "text/plain": [
              "<surprise.prediction_algorithms.knns.KNNWithMeans at 0x16bc7a310>"
            ]
          },
          "execution_count": 254,
          "metadata": {},
          "output_type": "execute_result"
        }
      ],
      "source": [
        "model_item.fit(train_Dataset)"
      ]
    },
    {
      "cell_type": "code",
      "execution_count": 255,
      "metadata": {},
      "outputs": [],
      "source": [
        "prediction_item_train = model_item.test(testset_from_train)"
      ]
    },
    {
      "cell_type": "code",
      "execution_count": 256,
      "metadata": {},
      "outputs": [],
      "source": [
        "prediction_item_test =  model_item.test(testset_from_test)"
      ]
    },
    {
      "cell_type": "code",
      "execution_count": 335,
      "metadata": {},
      "outputs": [
        {
          "name": "stdout",
          "output_type": "stream",
          "text": [
            "The RMSE from train set for item based recommmendations is: 0.5690496491977743\n"
          ]
        }
      ],
      "source": [
        "# Your code here\n",
        "sum = 0.0\n",
        "for i,j in zip(testset_from_train, prediction_item_train):\n",
        "    sum += (i[2] - j.est)**2\n",
        "print(\"The RMSE from train set for item based recommmendations is:\", math.sqrt(sum/len(testset_from_train)))"
      ]
    },
    {
      "cell_type": "code",
      "execution_count": 336,
      "metadata": {},
      "outputs": [
        {
          "name": "stdout",
          "output_type": "stream",
          "text": [
            "The RMSE from test set for item based recommmendations is: 0.9783018562689111\n"
          ]
        }
      ],
      "source": [
        "# Your code here\n",
        "sum = 0.0\n",
        "for i,j in zip(testset_from_test, prediction_item_test):\n",
        "    sum += (i[2] - j.est)**2\n",
        "print(\"The RMSE from test set for item based recommmendations is:\", math.sqrt(sum/len(testset_from_test)))"
      ]
    },
    {
      "cell_type": "markdown",
      "metadata": {
        "id": "7fjjupuctTLi"
      },
      "source": [
        "(2). Similar to previous question, display the top 10 movies for user 10, ranked by the predicted rating scores in the test set."
      ]
    },
    {
      "cell_type": "code",
      "execution_count": 337,
      "metadata": {},
      "outputs": [],
      "source": [
        "predictions_for_test_set_df_i = pd.DataFrame(prediction_item_test)"
      ]
    },
    {
      "cell_type": "code",
      "execution_count": 338,
      "metadata": {
        "id": "Uzzs5B9StSse"
      },
      "outputs": [],
      "source": [
        "list_of_item_id_i = predictions_for_test_set_df_i[predictions_for_test_set_df_i['uid'] == 10].sort_values(by='est', ascending=False)[['iid']][:10]"
      ]
    },
    {
      "cell_type": "code",
      "execution_count": 339,
      "metadata": {
        "id": "K3Klfo9_mXnh"
      },
      "outputs": [
        {
          "name": "stderr",
          "output_type": "stream",
          "text": [
            "                                                                                \r"
          ]
        }
      ],
      "source": [
        "movie_ls_user_10_i = [items.filter(items.item_id == i).select('movie').collect()[0][0] for i in list_of_item_id_i['iid']]"
      ]
    },
    {
      "cell_type": "code",
      "execution_count": 340,
      "metadata": {},
      "outputs": [
        {
          "name": "stdout",
          "output_type": "stream",
          "text": [
            "These are the top 10 recommendations for user 10 using item based recommendation\n",
            "\t Casablanca (1942)\n",
            "\t Rear Window (1954)\n",
            "\t Sunset Blvd. (1950)\n",
            "\t Godfather, The (1972)\n",
            "\t Shawshank Redemption, The (1994)\n",
            "\t Secrets & Lies (1996)\n",
            "\t Manchurian Candidate, The (1962)\n",
            "\t Silence of the Lambs, The (1991)\n",
            "\t It's a Wonderful Life (1946)\n",
            "\t Dr. Strangelove or: How I Learned to Stop Worrying and Love the Bomb (1963)\n"
          ]
        }
      ],
      "source": [
        "print(\"These are the top 10 recommendations for user 10 using item based recommendation\")\n",
        "for i in movie_ls_user_10_i:\n",
        "    print(\"\\t\",i)"
      ]
    },
    {
      "cell_type": "markdown",
      "metadata": {
        "id": "-jQAsg8Ftczx"
      },
      "source": [
        "(3). Given the same number of nearest neighbor ($k$), compare and discuss the user-based and item-based recommendation, which performs better on the test set?"
      ]
    },
    {
      "cell_type": "markdown",
      "metadata": {},
      "source": [
        "# Your word answers here\n",
        "The RMSE for k  =10 was selected as the best from user-based recommendation and same value was used for item-based recommmendation. Following were the resukts \n",
        "User Based : 0.9874638702908748\n",
        "Item Based : 0.9783018562689111\n",
        "\n",
        "I think item based recommendation is better than the user based from the above results as the RMSE for the same is less than user based recommendation. "
      ]
    }
  ],
  "metadata": {
    "colab": {
      "collapsed_sections": [],
      "name": "MMDS  Colab 5.ipynb",
      "provenance": []
    },
    "interpreter": {
      "hash": "b0fa6594d8f4cbf19f97940f81e996739fb7646882a419484c72d19e05852a7e"
    },
    "kernelspec": {
      "display_name": "Python 3.9.12 64-bit",
      "name": "python3"
    },
    "language_info": {
      "codemirror_mode": {
        "name": "ipython",
        "version": 3
      },
      "file_extension": ".py",
      "mimetype": "text/x-python",
      "name": "python",
      "nbconvert_exporter": "python",
      "pygments_lexer": "ipython3",
      "version": "3.9.12"
    }
  },
  "nbformat": 4,
  "nbformat_minor": 0
}
